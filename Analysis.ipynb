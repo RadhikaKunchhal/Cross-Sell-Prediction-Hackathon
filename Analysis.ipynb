{
 "cells": [
  {
   "cell_type": "code",
   "execution_count": 1,
   "metadata": {},
   "outputs": [],
   "source": [
    "# importing libraries\n",
    "import pandas as pd\n",
    "import numpy as np\n",
    "import matplotlib.pyplot as plt\n",
    "import seaborn as sns\n",
    "import math\n",
    "\n",
    "import warnings\n",
    "warnings.filterwarnings(action = 'ignore')"
   ]
  },
  {
   "cell_type": "code",
   "execution_count": 2,
   "metadata": {},
   "outputs": [],
   "source": [
    "df = pd.read_csv(\"train.csv\")"
   ]
  },
  {
   "cell_type": "code",
   "execution_count": 3,
   "metadata": {},
   "outputs": [],
   "source": [
    "data = df.copy()"
   ]
  },
  {
   "cell_type": "code",
   "execution_count": 4,
   "metadata": {
    "scrolled": false
   },
   "outputs": [
    {
     "data": {
      "text/html": [
       "<div>\n",
       "<style scoped>\n",
       "    .dataframe tbody tr th:only-of-type {\n",
       "        vertical-align: middle;\n",
       "    }\n",
       "\n",
       "    .dataframe tbody tr th {\n",
       "        vertical-align: top;\n",
       "    }\n",
       "\n",
       "    .dataframe thead th {\n",
       "        text-align: right;\n",
       "    }\n",
       "</style>\n",
       "<table border=\"1\" class=\"dataframe\">\n",
       "  <thead>\n",
       "    <tr style=\"text-align: right;\">\n",
       "      <th></th>\n",
       "      <th>id</th>\n",
       "      <th>Gender</th>\n",
       "      <th>Age</th>\n",
       "      <th>Driving_License</th>\n",
       "      <th>Region_Code</th>\n",
       "      <th>Previously_Insured</th>\n",
       "      <th>Vehicle_Age</th>\n",
       "      <th>Vehicle_Damage</th>\n",
       "      <th>Annual_Premium</th>\n",
       "      <th>Policy_Sales_Channel</th>\n",
       "      <th>Vintage</th>\n",
       "      <th>Response</th>\n",
       "    </tr>\n",
       "  </thead>\n",
       "  <tbody>\n",
       "    <tr>\n",
       "      <th>0</th>\n",
       "      <td>1</td>\n",
       "      <td>Male</td>\n",
       "      <td>44</td>\n",
       "      <td>1</td>\n",
       "      <td>28.0</td>\n",
       "      <td>0</td>\n",
       "      <td>&gt; 2 Years</td>\n",
       "      <td>Yes</td>\n",
       "      <td>40454.0</td>\n",
       "      <td>26.0</td>\n",
       "      <td>217</td>\n",
       "      <td>1</td>\n",
       "    </tr>\n",
       "    <tr>\n",
       "      <th>1</th>\n",
       "      <td>2</td>\n",
       "      <td>Male</td>\n",
       "      <td>76</td>\n",
       "      <td>1</td>\n",
       "      <td>3.0</td>\n",
       "      <td>0</td>\n",
       "      <td>1-2 Year</td>\n",
       "      <td>No</td>\n",
       "      <td>33536.0</td>\n",
       "      <td>26.0</td>\n",
       "      <td>183</td>\n",
       "      <td>0</td>\n",
       "    </tr>\n",
       "    <tr>\n",
       "      <th>2</th>\n",
       "      <td>3</td>\n",
       "      <td>Male</td>\n",
       "      <td>47</td>\n",
       "      <td>1</td>\n",
       "      <td>28.0</td>\n",
       "      <td>0</td>\n",
       "      <td>&gt; 2 Years</td>\n",
       "      <td>Yes</td>\n",
       "      <td>38294.0</td>\n",
       "      <td>26.0</td>\n",
       "      <td>27</td>\n",
       "      <td>1</td>\n",
       "    </tr>\n",
       "    <tr>\n",
       "      <th>3</th>\n",
       "      <td>4</td>\n",
       "      <td>Male</td>\n",
       "      <td>21</td>\n",
       "      <td>1</td>\n",
       "      <td>11.0</td>\n",
       "      <td>1</td>\n",
       "      <td>&lt; 1 Year</td>\n",
       "      <td>No</td>\n",
       "      <td>28619.0</td>\n",
       "      <td>152.0</td>\n",
       "      <td>203</td>\n",
       "      <td>0</td>\n",
       "    </tr>\n",
       "    <tr>\n",
       "      <th>4</th>\n",
       "      <td>5</td>\n",
       "      <td>Female</td>\n",
       "      <td>29</td>\n",
       "      <td>1</td>\n",
       "      <td>41.0</td>\n",
       "      <td>1</td>\n",
       "      <td>&lt; 1 Year</td>\n",
       "      <td>No</td>\n",
       "      <td>27496.0</td>\n",
       "      <td>152.0</td>\n",
       "      <td>39</td>\n",
       "      <td>0</td>\n",
       "    </tr>\n",
       "  </tbody>\n",
       "</table>\n",
       "</div>"
      ],
      "text/plain": [
       "   id  Gender  Age  Driving_License  Region_Code  Previously_Insured  \\\n",
       "0   1    Male   44                1         28.0                   0   \n",
       "1   2    Male   76                1          3.0                   0   \n",
       "2   3    Male   47                1         28.0                   0   \n",
       "3   4    Male   21                1         11.0                   1   \n",
       "4   5  Female   29                1         41.0                   1   \n",
       "\n",
       "  Vehicle_Age Vehicle_Damage  Annual_Premium  Policy_Sales_Channel  Vintage  \\\n",
       "0   > 2 Years            Yes         40454.0                  26.0      217   \n",
       "1    1-2 Year             No         33536.0                  26.0      183   \n",
       "2   > 2 Years            Yes         38294.0                  26.0       27   \n",
       "3    < 1 Year             No         28619.0                 152.0      203   \n",
       "4    < 1 Year             No         27496.0                 152.0       39   \n",
       "\n",
       "   Response  \n",
       "0         1  \n",
       "1         0  \n",
       "2         1  \n",
       "3         0  \n",
       "4         0  "
      ]
     },
     "execution_count": 4,
     "metadata": {},
     "output_type": "execute_result"
    }
   ],
   "source": [
    "data.head()"
   ]
  },
  {
   "cell_type": "code",
   "execution_count": 6,
   "metadata": {},
   "outputs": [
    {
     "data": {
      "text/plain": [
       "(381109, 12)"
      ]
     },
     "execution_count": 6,
     "metadata": {},
     "output_type": "execute_result"
    }
   ],
   "source": [
    "data.shape"
   ]
  },
  {
   "cell_type": "markdown",
   "metadata": {},
   "source": [
    "#### Checking Duplicates in dataset"
   ]
  },
  {
   "cell_type": "code",
   "execution_count": 18,
   "metadata": {},
   "outputs": [
    {
     "data": {
      "text/plain": [
       "0"
      ]
     },
     "execution_count": 18,
     "metadata": {},
     "output_type": "execute_result"
    }
   ],
   "source": [
    "data.duplicated().sum()"
   ]
  },
  {
   "cell_type": "markdown",
   "metadata": {},
   "source": [
    "#### checking Null Values"
   ]
  },
  {
   "cell_type": "code",
   "execution_count": 43,
   "metadata": {},
   "outputs": [
    {
     "data": {
      "text/plain": [
       "id                      0\n",
       "Gender                  0\n",
       "Age                     0\n",
       "Driving_License         0\n",
       "Region_Code             0\n",
       "Previously_Insured      0\n",
       "Vehicle_Age             0\n",
       "Vehicle_Damage          0\n",
       "Annual_Premium          0\n",
       "Policy_Sales_Channel    0\n",
       "Vintage                 0\n",
       "Response                0\n",
       "dtype: int64"
      ]
     },
     "execution_count": 43,
     "metadata": {},
     "output_type": "execute_result"
    }
   ],
   "source": [
    "data.isna().sum()"
   ]
  },
  {
   "cell_type": "markdown",
   "metadata": {},
   "source": [
    "#### Checking data types"
   ]
  },
  {
   "cell_type": "code",
   "execution_count": 22,
   "metadata": {},
   "outputs": [
    {
     "data": {
      "text/html": [
       "<div>\n",
       "<style scoped>\n",
       "    .dataframe tbody tr th:only-of-type {\n",
       "        vertical-align: middle;\n",
       "    }\n",
       "\n",
       "    .dataframe tbody tr th {\n",
       "        vertical-align: top;\n",
       "    }\n",
       "\n",
       "    .dataframe thead th {\n",
       "        text-align: right;\n",
       "    }\n",
       "</style>\n",
       "<table border=\"1\" class=\"dataframe\">\n",
       "  <thead>\n",
       "    <tr style=\"text-align: right;\">\n",
       "      <th></th>\n",
       "      <th>id</th>\n",
       "      <th>Gender</th>\n",
       "      <th>Age</th>\n",
       "      <th>Driving_License</th>\n",
       "      <th>Region_Code</th>\n",
       "      <th>Previously_Insured</th>\n",
       "      <th>Vehicle_Age</th>\n",
       "      <th>Vehicle_Damage</th>\n",
       "      <th>Annual_Premium</th>\n",
       "      <th>Policy_Sales_Channel</th>\n",
       "      <th>Vintage</th>\n",
       "      <th>Response</th>\n",
       "    </tr>\n",
       "  </thead>\n",
       "  <tbody>\n",
       "    <tr>\n",
       "      <th>215500</th>\n",
       "      <td>215501</td>\n",
       "      <td>Female</td>\n",
       "      <td>52</td>\n",
       "      <td>1</td>\n",
       "      <td>28.0</td>\n",
       "      <td>0</td>\n",
       "      <td>1-2 Year</td>\n",
       "      <td>Yes</td>\n",
       "      <td>35472.0</td>\n",
       "      <td>124.0</td>\n",
       "      <td>275</td>\n",
       "      <td>1</td>\n",
       "    </tr>\n",
       "    <tr>\n",
       "      <th>354980</th>\n",
       "      <td>354981</td>\n",
       "      <td>Female</td>\n",
       "      <td>39</td>\n",
       "      <td>1</td>\n",
       "      <td>28.0</td>\n",
       "      <td>0</td>\n",
       "      <td>&gt; 2 Years</td>\n",
       "      <td>Yes</td>\n",
       "      <td>37358.0</td>\n",
       "      <td>25.0</td>\n",
       "      <td>224</td>\n",
       "      <td>1</td>\n",
       "    </tr>\n",
       "  </tbody>\n",
       "</table>\n",
       "</div>"
      ],
      "text/plain": [
       "            id  Gender  Age  Driving_License  Region_Code  Previously_Insured  \\\n",
       "215500  215501  Female   52                1         28.0                   0   \n",
       "354980  354981  Female   39                1         28.0                   0   \n",
       "\n",
       "       Vehicle_Age Vehicle_Damage  Annual_Premium  Policy_Sales_Channel  \\\n",
       "215500    1-2 Year            Yes         35472.0                 124.0   \n",
       "354980   > 2 Years            Yes         37358.0                  25.0   \n",
       "\n",
       "        Vintage  Response  \n",
       "215500      275         1  \n",
       "354980      224         1  "
      ]
     },
     "execution_count": 22,
     "metadata": {},
     "output_type": "execute_result"
    }
   ],
   "source": [
    "data.sample(2)"
   ]
  },
  {
   "cell_type": "code",
   "execution_count": 21,
   "metadata": {
    "scrolled": true
   },
   "outputs": [
    {
     "data": {
      "text/plain": [
       "id                        int64\n",
       "Gender                   object\n",
       "Age                       int64\n",
       "Driving_License           int64\n",
       "Region_Code             float64\n",
       "Previously_Insured        int64\n",
       "Vehicle_Age              object\n",
       "Vehicle_Damage           object\n",
       "Annual_Premium          float64\n",
       "Policy_Sales_Channel    float64\n",
       "Vintage                   int64\n",
       "Response                  int64\n",
       "dtype: object"
      ]
     },
     "execution_count": 21,
     "metadata": {},
     "output_type": "execute_result"
    }
   ],
   "source": [
    "data.dtypes"
   ]
  },
  {
   "cell_type": "code",
   "execution_count": 26,
   "metadata": {
    "scrolled": true
   },
   "outputs": [
    {
     "data": {
      "text/plain": [
       "id                    int64\n",
       "Age                   int64\n",
       "Driving_License       int64\n",
       "Previously_Insured    int64\n",
       "Vintage               int64\n",
       "Response              int64\n",
       "dtype: object"
      ]
     },
     "execution_count": 26,
     "metadata": {},
     "output_type": "execute_result"
    }
   ],
   "source": [
    "data.dtypes[data.dtypes == 'int64']"
   ]
  },
  {
   "cell_type": "markdown",
   "metadata": {},
   "source": [
    "**Summary**\n",
    "- id is unique number so correctly identified as int\n",
    "- Age too is given in whole numbber so no need to change the type\n",
    "- **Driving_License** is 0 or 1 meaning if one has a license or not, **should be changed to category**\n",
    "- **Previously_Insured** is also 0 or 1 , whether customer has previously had insurance , **should be converted in category**\n",
    "- Vintage is Number of days the customer has been associated with company , so datatype is fine.\n",
    "- **Response** is 1 or 0 on basis of whether the customer would agree for vehicle insurance or not , so **should be converted to category**"
   ]
  },
  {
   "cell_type": "code",
   "execution_count": 28,
   "metadata": {},
   "outputs": [],
   "source": [
    "data['Driving_License'] = data['Driving_License'].astype('category')\n",
    "data['Previously_Insured'] = data['Previously_Insured'].astype('category')\n",
    "data['Response'] = data['Response'].astype('category')"
   ]
  },
  {
   "cell_type": "code",
   "execution_count": 29,
   "metadata": {
    "scrolled": true
   },
   "outputs": [
    {
     "data": {
      "text/plain": [
       "id         int64\n",
       "Age        int64\n",
       "Vintage    int64\n",
       "dtype: object"
      ]
     },
     "execution_count": 29,
     "metadata": {},
     "output_type": "execute_result"
    }
   ],
   "source": [
    "data.dtypes[data.dtypes == 'int64']"
   ]
  },
  {
   "cell_type": "code",
   "execution_count": 30,
   "metadata": {
    "scrolled": true
   },
   "outputs": [
    {
     "data": {
      "text/plain": [
       "Region_Code             float64\n",
       "Annual_Premium          float64\n",
       "Policy_Sales_Channel    float64\n",
       "dtype: object"
      ]
     },
     "execution_count": 30,
     "metadata": {},
     "output_type": "execute_result"
    }
   ],
   "source": [
    "data.dtypes[data.dtypes == 'float64']"
   ]
  },
  {
   "cell_type": "code",
   "execution_count": 33,
   "metadata": {
    "collapsed": true
   },
   "outputs": [
    {
     "data": {
      "text/plain": [
       "array([28.,  3., 11., 41., 33.,  6., 35., 50., 15., 45.,  8., 36., 30.,\n",
       "       26., 16., 47., 48., 19., 39., 23., 37.,  5., 17.,  2.,  7., 29.,\n",
       "       46., 27., 25., 13., 18., 20., 49., 22., 44.,  0.,  9., 31., 12.,\n",
       "       34., 21., 10., 14., 38., 24., 40., 43., 32.,  4., 51., 42.,  1.,\n",
       "       52.])"
      ]
     },
     "execution_count": 33,
     "metadata": {},
     "output_type": "execute_result"
    }
   ],
   "source": [
    "data.Region_Code.unique()"
   ]
  },
  {
   "cell_type": "code",
   "execution_count": 39,
   "metadata": {
    "collapsed": true
   },
   "outputs": [
    {
     "data": {
      "text/plain": [
       "<bound method IndexOpsMixin.nunique of 0         40454.0\n",
       "1         33536.0\n",
       "2         38294.0\n",
       "3         28619.0\n",
       "4         27496.0\n",
       "           ...   \n",
       "381104    30170.0\n",
       "381105    40016.0\n",
       "381106    35118.0\n",
       "381107    44617.0\n",
       "381108    41777.0\n",
       "Name: Annual_Premium, Length: 381109, dtype: float64>"
      ]
     },
     "execution_count": 39,
     "metadata": {},
     "output_type": "execute_result"
    }
   ],
   "source": [
    "data[\"Annual_Premium\"].nunique"
   ]
  },
  {
   "cell_type": "code",
   "execution_count": 35,
   "metadata": {
    "collapsed": true
   },
   "outputs": [
    {
     "data": {
      "text/plain": [
       "array([ 26., 152., 160., 124.,  14.,  13.,  30., 156., 163., 157., 122.,\n",
       "        19.,  22.,  15., 154.,  16.,  52., 155.,  11., 151., 125.,  25.,\n",
       "        61.,   1.,  86.,  31., 150.,  23.,  60.,  21., 121.,   3., 139.,\n",
       "        12.,  29.,  55.,   7.,  47., 127., 153.,  78., 158.,  89.,  32.,\n",
       "         8.,  10., 120.,  65.,   4.,  42.,  83., 136.,  24.,  18.,  56.,\n",
       "        48., 106.,  54.,  93., 116.,  91.,  45.,   9., 145., 147.,  44.,\n",
       "       109.,  37., 140., 107., 128., 131., 114., 118., 159., 119., 105.,\n",
       "       135.,  62., 138., 129.,  88.,  92., 111., 113.,  73.,  36.,  28.,\n",
       "        35.,  59.,  53., 148., 133., 108.,  64.,  39.,  94., 132.,  46.,\n",
       "        81., 103.,  90.,  51.,  27., 146.,  63.,  96.,  40.,  66., 100.,\n",
       "        95., 123.,  98.,  75.,  69., 130., 134.,  49.,  97.,  38.,  17.,\n",
       "       110.,  80.,  71., 117.,  58.,  20.,  76., 104.,  87.,  84., 137.,\n",
       "       126.,  68.,  67., 101., 115.,  57.,  82.,  79., 112.,  99.,  70.,\n",
       "         2.,  34.,  33.,  74., 102., 149.,  43.,   6.,  50., 144., 143.,\n",
       "        41.])"
      ]
     },
     "execution_count": 35,
     "metadata": {},
     "output_type": "execute_result"
    }
   ],
   "source": [
    "data[\"Policy_Sales_Channel\"].unique()"
   ]
  },
  {
   "cell_type": "markdown",
   "metadata": {},
   "source": [
    "**Summary**\n",
    "- **Region_code** unquely defines the region of customer so can be **converted in int64** as their is no decimal value in any value\n",
    "- Annual_Premium is the amount customer needs to pay as premium in the year , we have no decimal value here but might have in test set , so float64\n",
    "- **Policy_Sales_Channel** is Code for the channel of outreaching to the customer , and has no decimal value so **convert to int64**"
   ]
  },
  {
   "cell_type": "code",
   "execution_count": 40,
   "metadata": {},
   "outputs": [],
   "source": [
    "data['Region_Code'] = data['Region_Code'].astype('int64')\n",
    "data['Policy_Sales_Channel'] = data['Policy_Sales_Channel'].astype('int64')"
   ]
  },
  {
   "cell_type": "code",
   "execution_count": 25,
   "metadata": {},
   "outputs": [],
   "source": [
    "data['Gender'] = data['Gender'].astype('category')\n",
    "data['Vehicle_Age'] = data['Vehicle_Age'].astype('category')\n",
    "data['Vehicle_Damage'] = data['Vehicle_Damage'].astype('category')"
   ]
  },
  {
   "cell_type": "code",
   "execution_count": 42,
   "metadata": {},
   "outputs": [
    {
     "data": {
      "text/plain": [
       "id                         int64\n",
       "Gender                  category\n",
       "Age                        int64\n",
       "Driving_License         category\n",
       "Region_Code                int64\n",
       "Previously_Insured      category\n",
       "Vehicle_Age             category\n",
       "Vehicle_Damage          category\n",
       "Annual_Premium           float64\n",
       "Policy_Sales_Channel       int64\n",
       "Vintage                    int64\n",
       "Response                category\n",
       "dtype: object"
      ]
     },
     "execution_count": 42,
     "metadata": {},
     "output_type": "execute_result"
    }
   ],
   "source": [
    "data.dtypes"
   ]
  },
  {
   "cell_type": "markdown",
   "metadata": {},
   "source": [
    "## ANALYSIS"
   ]
  },
  {
   "cell_type": "markdown",
   "metadata": {},
   "source": [
    "#### Univariate Analysis: Numerical Variables"
   ]
  },
  {
   "cell_type": "code",
   "execution_count": 46,
   "metadata": {
    "scrolled": false
   },
   "outputs": [
    {
     "data": {
      "text/plain": [
       "id                        int64\n",
       "Age                       int64\n",
       "Region_Code               int64\n",
       "Annual_Premium          float64\n",
       "Policy_Sales_Channel      int64\n",
       "Vintage                   int64\n",
       "dtype: object"
      ]
     },
     "execution_count": 46,
     "metadata": {},
     "output_type": "execute_result"
    }
   ],
   "source": [
    "# Numerical datatypes\n",
    "data.select_dtypes(include=['int64','float64','Int64']).dtypes"
   ]
  },
  {
   "cell_type": "markdown",
   "metadata": {},
   "source": [
    "#### Function for Box ,KDE , Log_transformed KDE and Log_Modulus KDE plot"
   ]
  },
  {
   "cell_type": "code",
   "execution_count": 47,
   "metadata": {},
   "outputs": [],
   "source": [
    "def plot_num(feature):\n",
    "    mini = data[feature].min()\n",
    "    maxi = data[feature].max()\n",
    "    ran = data[feature].max()-data[feature].min()\n",
    "    mean = data[feature].mean()\n",
    "    skew = data[feature].skew()\n",
    "    kurt = data[feature].kurtosis()\n",
    "    median = data[feature].median()\n",
    "    st_dev = data[feature].std()\n",
    "    points = mean-st_dev, mean+st_dev\n",
    "    \n",
    "    fig,axes=plt.subplots(1,2)\n",
    "    sns.boxplot(data=data,x=feature,ax=axes[0])\n",
    "    sns.distplot(a=data[feature],ax=axes[1],color='#ff4125')\n",
    "    \n",
    "    fig.set_size_inches(15,5)\n",
    "    plt.title('std_dev = {}; kurtosis = {};\\nskew = {}; range = {}\\nmean = {}; median = {}'.format((round(points[0],2),round(points[1],2)),round(kurt,2),round(skew,2),(round(mini,2),round(maxi,2),round(ran,2)),round(mean,2),round(median,2)))\n"
   ]
  },
  {
   "cell_type": "code",
   "execution_count": 50,
   "metadata": {},
   "outputs": [],
   "source": [
    "def plot_num_log(feature):\n",
    "    sns.distplot(np.log(data[feature].values), bins=25, kde=True)"
   ]
  },
  {
   "cell_type": "code",
   "execution_count": 48,
   "metadata": {},
   "outputs": [],
   "source": [
    "def log_mod(y):\n",
    "    sns.distplot(np.sign(y)*(np.log(abs(y) + 1)), hist = False, kde = True,kde_kws = {'shade': True})"
   ]
  },
  {
   "cell_type": "markdown",
   "metadata": {},
   "source": [
    "- ID"
   ]
  },
  {
   "cell_type": "code",
   "execution_count": 45,
   "metadata": {},
   "outputs": [
    {
     "data": {
      "text/plain": [
       "0"
      ]
     },
     "execution_count": 45,
     "metadata": {},
     "output_type": "execute_result"
    }
   ],
   "source": [
    "data.id.duplicated().sum()"
   ]
  },
  {
   "cell_type": "code",
   "execution_count": 78,
   "metadata": {},
   "outputs": [
    {
     "data": {
      "image/png": "[encoded data removed]",
      "text/plain": [
       "<Figure size 1080x360 with 2 Axes>"
      ]
     },
     "metadata": {
      "needs_background": "light"
     },
     "output_type": "display_data"
    }
   ],
   "source": [
    "plot_num(\"id\")"
   ]
  },
  {
   "cell_type": "markdown",
   "metadata": {},
   "source": [
    "- Age"
   ]
  },
  {
   "cell_type": "code",
   "execution_count": 55,
   "metadata": {
    "scrolled": false
   },
   "outputs": [
    {
     "data": {
      "image/png": "[encoded data removed]",
      "text/plain": [
       "<Figure size 1080x360 with 2 Axes>"
      ]
     },
     "metadata": {
      "needs_background": "light"
     },
     "output_type": "display_data"
    }
   ],
   "source": [
    "plot_num(\"Age\")"
   ]
  },
  {
   "cell_type": "markdown",
   "metadata": {},
   "source": [
    "- People from 20-30 tend to have the highest number of health insurance already , chances are they fell ill less as less age so accidents\n",
    ">- Hypothesis - 20-30 might take insurance more\n",
    "- Overall . 20- 50 have more health insurrance \n",
    ">- Hypothesis - They would take vehicle Insurance"
   ]
  },
  {
   "cell_type": "markdown",
   "metadata": {},
   "source": [
    "### New_Feature \n",
    "- Make new Column for Age Binning to categorize people on Age basis."
   ]
  },
  {
   "cell_type": "code",
   "execution_count": 58,
   "metadata": {},
   "outputs": [
    {
     "data": {
      "text/plain": [
       "(20, 85)"
      ]
     },
     "execution_count": 58,
     "metadata": {},
     "output_type": "execute_result"
    }
   ],
   "source": [
    "data[\"Age\"].min() , data[\"Age\"].max()"
   ]
  },
  {
   "cell_type": "code",
   "execution_count": 59,
   "metadata": {},
   "outputs": [],
   "source": [
    "bins = [19 , 33 , 50 , 65 , 86]\n",
    "labels = [\"Young\" , \"Adult\" , \"Mature\" , \"Old\"]\n",
    "data[\"Age_Bin\"] = pd.cut(data['Age'], bins, labels = labels, include_lowest = True)"
   ]
  },
  {
   "cell_type": "markdown",
   "metadata": {},
   "source": [
    "#### Back to analysis"
   ]
  },
  {
   "cell_type": "markdown",
   "metadata": {},
   "source": [
    "- Region_Code"
   ]
  },
  {
   "cell_type": "code",
   "execution_count": 62,
   "metadata": {},
   "outputs": [
    {
     "data": {
      "image/png": "[encoded data removed]",
      "text/plain": [
       "<Figure size 1080x360 with 2 Axes>"
      ]
     },
     "metadata": {
      "needs_background": "light"
     },
     "output_type": "display_data"
    }
   ],
   "source": [
    "plot_num(\"Region_Code\")"
   ]
  },
  {
   "cell_type": "markdown",
   "metadata": {},
   "source": [
    "- Why more frequency near area 30?\n",
    ">- More accidents?? Can be checked with Vehicle_Damage\n",
    ">- If yes, Hypothesis -- More applied for vehicle insurance"
   ]
  },
  {
   "cell_type": "markdown",
   "metadata": {},
   "source": [
    "- Annual_Premium (Annual Premium payment to be paid)"
   ]
  },
  {
   "cell_type": "code",
   "execution_count": 63,
   "metadata": {},
   "outputs": [
    {
     "data": {
      "image/png": "[encoded data removed]",
      "text/plain": [
       "<Figure size 1080x360 with 2 Axes>"
      ]
     },
     "metadata": {
      "needs_background": "light"
     },
     "output_type": "display_data"
    }
   ],
   "source": [
    "plot_num(\"Annual_Premium\")"
   ]
  },
  {
   "cell_type": "markdown",
   "metadata": {},
   "source": [
    "- SInce less premium amount to be paid this year is majority\n",
    ">- May not accept vehicle Insurance\n",
    ">- But do check t=with age in this and vehicle damage\n",
    "- The high Insurance Payment ones\n",
    ">- If very old , might not accept Vehicle Insurance \n",
    ">- If more vehicle damage, then would"
   ]
  },
  {
   "cell_type": "markdown",
   "metadata": {},
   "source": [
    "- Policy_Sales_Channel (Anoymous Code for how the policy was introduced)\n",
    ">- Different Agents, Over Mail, Over Phone, In Person, etc."
   ]
  },
  {
   "cell_type": "code",
   "execution_count": 64,
   "metadata": {},
   "outputs": [
    {
     "data": {
      "image/png": "[encoded data removed]",
      "text/plain": [
       "<Figure size 1080x360 with 2 Axes>"
      ]
     },
     "metadata": {
      "needs_background": "light"
     },
     "output_type": "display_data"
    }
   ],
   "source": [
    "plot_num(\"Policy_Sales_Channel\")"
   ]
  },
  {
   "cell_type": "markdown",
   "metadata": {},
   "source": [
    "- The codes are definitely anoymous , but the ones with high peaks can be binned for over phone or mail or personally or via agents and etc\n",
    ">- But Definitely increasin after 120 channel code. \n",
    ">- Hypothesis -- More poeple interested who interacted with channel over 120"
   ]
  },
  {
   "cell_type": "markdown",
   "metadata": {},
   "source": [
    "#### New Feature from Policy_Sales_Channel"
   ]
  },
  {
   "cell_type": "code",
   "execution_count": 70,
   "metadata": {},
   "outputs": [],
   "source": [
    "bins = [0 , 20 , 35 , 70 , 120 , 145 , 165]\n",
    "labels = [\"Agents\" , \"Phone\" , \"agents\" ,\"Etc\", \"Mail\" , \"Personally\"]\n",
    "data[\"Policy_Sales_Channel_Bin\"] = pd.cut(data['Policy_Sales_Channel'], bins=bins, labels = labels, include_lowest = True)"
   ]
  },
  {
   "cell_type": "markdown",
   "metadata": {},
   "source": [
    "#### Back to Analysis"
   ]
  },
  {
   "cell_type": "markdown",
   "metadata": {},
   "source": [
    "- Vintage (Number of Days, Customer has been associated with the company)"
   ]
  },
  {
   "cell_type": "code",
   "execution_count": 72,
   "metadata": {},
   "outputs": [
    {
     "data": {
      "image/png": "[encoded data removed]",
      "text/plain": [
       "<Figure size 1080x360 with 2 Axes>"
      ]
     },
     "metadata": {
      "needs_background": "light"
     },
     "output_type": "display_data"
    }
   ],
   "source": [
    "plot_num(\"Vintage\")"
   ]
  },
  {
   "cell_type": "markdown",
   "metadata": {},
   "source": [
    "# ???"
   ]
  },
  {
   "cell_type": "code",
   "execution_count": 101,
   "metadata": {},
   "outputs": [],
   "source": [
    "### Univariate Categorical Variable"
   ]
  },
  {
   "cell_type": "code",
   "execution_count": 73,
   "metadata": {},
   "outputs": [
    {
     "data": {
      "text/plain": [
       "Gender                      category\n",
       "Driving_License             category\n",
       "Previously_Insured          category\n",
       "Vehicle_Age                 category\n",
       "Vehicle_Damage              category\n",
       "Response                    category\n",
       "Age_Bin                     category\n",
       "Policy_Sales_Channel_Bin    category\n",
       "dtype: object"
      ]
     },
     "execution_count": 73,
     "metadata": {},
     "output_type": "execute_result"
    }
   ],
   "source": [
    "# Category datatypes\n",
    "data.select_dtypes(include=['category']).dtypes"
   ]
  },
  {
   "cell_type": "markdown",
   "metadata": {},
   "source": [
    "####  Defining function for Bar plot and getting value_counts for categories in columns"
   ]
  },
  {
   "cell_type": "code",
   "execution_count": 75,
   "metadata": {},
   "outputs": [],
   "source": [
    "def plot_cat(feature):\n",
    "    sns.countplot(data=data,x=feature)"
   ]
  },
  {
   "cell_type": "code",
   "execution_count": 81,
   "metadata": {},
   "outputs": [],
   "source": [
    "def value(x):\n",
    "    for i in data[x].unique():\n",
    "        y = data[data[x] == i] \n",
    "        print(i ,(y.shape[0] / data.shape[0])*100)"
   ]
  },
  {
   "cell_type": "markdown",
   "metadata": {},
   "source": [
    "- Gender"
   ]
  },
  {
   "cell_type": "code",
   "execution_count": 79,
   "metadata": {
    "collapsed": true
   },
   "outputs": [
    {
     "data": {
      "image/png": "[encoded data removed]",
      "text/plain": [
       "<Figure size 432x288 with 1 Axes>"
      ]
     },
     "metadata": {
      "needs_background": "light"
     },
     "output_type": "display_data"
    }
   ],
   "source": [
    "plot_cat(\"Gender\")"
   ]
  },
  {
   "cell_type": "markdown",
   "metadata": {},
   "source": [
    "- Females are less in number \n",
    ">- Hypothesis - Females may accept more vehicle insurance due to more accidents maybe"
   ]
  },
  {
   "cell_type": "markdown",
   "metadata": {},
   "source": [
    "- Driving_License (0 : Customer does not have DL, 1 : Customer already has DL)"
   ]
  },
  {
   "cell_type": "code",
   "execution_count": 82,
   "metadata": {
    "collapsed": true
   },
   "outputs": [
    {
     "name": "stdout",
     "output_type": "stream",
     "text": [
      "1 99.78693759528115\n",
      "0 0.21306240471885995\n"
     ]
    },
    {
     "data": {
      "text/plain": [
       "Text(0.5, 1.0, 'Driving_License None')"
      ]
     },
     "execution_count": 82,
     "metadata": {},
     "output_type": "execute_result"
    },
    {
     "data": {
      "image/png": "[encoded data removed]",
      "text/plain": [
       "<Figure size 432x288 with 1 Axes>"
      ]
     },
     "metadata": {
      "needs_background": "light"
     },
     "output_type": "display_data"
    }
   ],
   "source": [
    "plot_cat(\"Driving_License\")\n",
    "plt.title(\"Driving_License {}\".format(value(\"Driving_License\"))) "
   ]
  },
  {
   "cell_type": "markdown",
   "metadata": {},
   "source": [
    "- customers with no driivng license are way too less"
   ]
  },
  {
   "cell_type": "markdown",
   "metadata": {},
   "source": [
    "- Previously_Insured (1 : Customer already has Vehicle Insurance, 0 : Customer doesn't have)"
   ]
  },
  {
   "cell_type": "code",
   "execution_count": 85,
   "metadata": {
    "collapsed": true
   },
   "outputs": [
    {
     "name": "stdout",
     "output_type": "stream",
     "text": [
      "0 54.17898816349128\n",
      "1 45.82101183650871\n"
     ]
    },
    {
     "data": {
      "text/plain": [
       "Text(0.5, 1.0, 'Do they laready have insurance None')"
      ]
     },
     "execution_count": 85,
     "metadata": {},
     "output_type": "execute_result"
    },
    {
     "data": {
      "image/png": "[encoded data removed]",
      "text/plain": [
       "<Figure size 432x288 with 1 Axes>"
      ]
     },
     "metadata": {
      "needs_background": "light"
     },
     "output_type": "display_data"
    }
   ],
   "source": [
    "plot_cat(\"Previously_Insured\")\n",
    "plt.title(\"Do they laready have insurance {}\".format(value(\"Previously_Insured\")))"
   ]
  },
  {
   "cell_type": "markdown",
   "metadata": {},
   "source": [
    "- 45% of them already have vehicle insurace previously \n",
    ">- Hypothesis - Might agree faster with slowest mode of communication of policy for vehicle insurace"
   ]
  },
  {
   "cell_type": "markdown",
   "metadata": {},
   "source": [
    "- Vehicle_Age"
   ]
  },
  {
   "cell_type": "code",
   "execution_count": 88,
   "metadata": {},
   "outputs": [
    {
     "name": "stdout",
     "output_type": "stream",
     "text": [
      "> 2 Years 4.200110729476344\n",
      "1-2 Year 52.56134071879699\n",
      "< 1 Year 43.238548551726666\n"
     ]
    },
    {
     "data": {
      "text/plain": [
       "Text(0.5, 1.0, 'Vehicle_Age None')"
      ]
     },
     "execution_count": 88,
     "metadata": {},
     "output_type": "execute_result"
    },
    {
     "data": {
      "image/png": "[encoded data removed]",
      "text/plain": [
       "<Figure size 432x288 with 1 Axes>"
      ]
     },
     "metadata": {
      "needs_background": "light"
     },
     "output_type": "display_data"
    }
   ],
   "source": [
    "plot_cat(\"Vehicle_Age\")\n",
    "plt.title(\"Vehicle_Age {}\".format(value(\"Vehicle_Age\")))"
   ]
  },
  {
   "cell_type": "markdown",
   "metadata": {},
   "source": [
    "- Nwly brought vehicle ( < 1 year) might have insurance from company itself\n",
    ">- hypothesis - wont agree for insurance\n",
    "- 1-2 years might agree faster because new vehicle and dont want to spend on damages"
   ]
  },
  {
   "cell_type": "markdown",
   "metadata": {},
   "source": [
    "- Vehicle_Damage (1 : Customer got his/her vehicle damaged in the past. , 0 : Customer didn't get his/her vehicle damaged in the past.)"
   ]
  },
  {
   "cell_type": "code",
   "execution_count": 89,
   "metadata": {},
   "outputs": [
    {
     "name": "stdout",
     "output_type": "stream",
     "text": [
      "Yes 50.48765576252463\n",
      "No 49.51234423747537\n"
     ]
    },
    {
     "data": {
      "text/plain": [
       "Text(0.5, 1.0, 'Was vehicle damaged previously? None')"
      ]
     },
     "execution_count": 89,
     "metadata": {},
     "output_type": "execute_result"
    },
    {
     "data": {
      "image/png": "[encoded data removed]",
      "text/plain": [
       "<Figure size 432x288 with 1 Axes>"
      ]
     },
     "metadata": {
      "needs_background": "light"
     },
     "output_type": "display_data"
    }
   ],
   "source": [
    "plot_cat(\"Vehicle_Damage\")\n",
    "plt.title(\"Was vehicle damaged previously? {}\".format(value(\"Vehicle_Damage\")))"
   ]
  },
  {
   "cell_type": "markdown",
   "metadata": {},
   "source": [
    "- Half of the customers have damaged vehicles\n",
    ">- do check for AGe of vehicle and damage ratio\n",
    ">- Hypothesis - Damaged one would agree more"
   ]
  },
  {
   "cell_type": "markdown",
   "metadata": {},
   "source": [
    "- Age_Bin"
   ]
  },
  {
   "cell_type": "code",
   "execution_count": 94,
   "metadata": {
    "scrolled": false
   },
   "outputs": [
    {
     "name": "stdout",
     "output_type": "stream",
     "text": [
      "Adult 30.328331264808757\n",
      "Old 7.365084529622759\n",
      "Young 46.43842050437014\n",
      "Mature 15.868163701198345\n"
     ]
    },
    {
     "data": {
      "text/plain": [
       "Text(0.5, 1.0, 'Percentage of age binned None')"
      ]
     },
     "execution_count": 94,
     "metadata": {},
     "output_type": "execute_result"
    },
    {
     "data": {
      "image/png": "[encoded data removed]",
      "text/plain": [
       "<Figure size 432x288 with 1 Axes>"
      ]
     },
     "metadata": {
      "needs_background": "light"
     },
     "output_type": "display_data"
    }
   ],
   "source": [
    "plot_cat(\"Age_Bin\")\n",
    "plt.title(\"Percentage of age binned {}\".format(value(\"Age_Bin\")) )"
   ]
  },
  {
   "cell_type": "markdown",
   "metadata": {},
   "source": [
    "- Policy_Sales_Channel\t(Anonymised Code for the channel of outreaching to the customer)"
   ]
  },
  {
   "cell_type": "code",
   "execution_count": 95,
   "metadata": {
    "scrolled": false
   },
   "outputs": [
    {
     "name": "stdout",
     "output_type": "stream",
     "text": [
      "Phone 22.616101955083717\n",
      "Personally 49.763453500179736\n",
      "Mail 22.68537347582975\n",
      "Agents 3.1421456853551084\n",
      "agents 1.2096276918152025\n",
      "Etc 0.5832976917364848\n"
     ]
    },
    {
     "data": {
      "text/plain": [
       "Text(0.5, 1.0, 'Communication Mode for policy intro None')"
      ]
     },
     "execution_count": 95,
     "metadata": {},
     "output_type": "execute_result"
    },
    {
     "data": {
      "image/png": "[encoded data removed]",
      "text/plain": [
       "<Figure size 432x288 with 1 Axes>"
      ]
     },
     "metadata": {
      "needs_background": "light"
     },
     "output_type": "display_data"
    }
   ],
   "source": [
    "plot_cat(\"Policy_Sales_Channel_Bin\")\n",
    "plt.title(\"Communication Mode for policy intro {}\".format(value(\"Policy_Sales_Channel_Bin\")))"
   ]
  },
  {
   "cell_type": "code",
   "execution_count": 97,
   "metadata": {},
   "outputs": [],
   "source": [
    "c= {\"Agents\":\"Agents\" , \"agents\":\"Agents\" , \"Phone\":\"Phone\" , \"Mail\":\"Mail\" , \"Personally\": \"Personally\" , \"Etc\" :\"Etc\"}\n",
    "data['Policy_Sales_Channel_Bin'] = data['Policy_Sales_Channel_Bin'].map(c)"
   ]
  },
  {
   "cell_type": "code",
   "execution_count": 100,
   "metadata": {
    "scrolled": false
   },
   "outputs": [
    {
     "name": "stdout",
     "output_type": "stream",
     "text": [
      "Phone 22.616101955083717\n",
      "Personally 49.763453500179736\n",
      "Mail 22.68537347582975\n",
      "Agents 4.351773377170311\n",
      "Etc 0.5832976917364848\n"
     ]
    },
    {
     "data": {
      "text/plain": [
       "Text(0.5, 1.0, 'Communication Mode for policy intro \\nNone')"
      ]
     },
     "execution_count": 100,
     "metadata": {},
     "output_type": "execute_result"
    },
    {
     "data": {
      "image/png": "[encoded data removed]",
      "text/plain": [
       "<Figure size 432x288 with 1 Axes>"
      ]
     },
     "metadata": {
      "needs_background": "light"
     },
     "output_type": "display_data"
    }
   ],
   "source": [
    "plot_cat(\"Policy_Sales_Channel_Bin\")\n",
    "plt.title(\"Communication Mode for policy intro \\n{}\".format(value(\"Policy_Sales_Channel_Bin\")))"
   ]
  },
  {
   "cell_type": "markdown",
   "metadata": {},
   "source": [
    "- Hypo -- Personally would result better in getting pople interested for insurance"
   ]
  },
  {
   "cell_type": "markdown",
   "metadata": {},
   "source": [
    "- Response (1 :  Customer is interested, 0 : Customer is not interested)"
   ]
  },
  {
   "cell_type": "code",
   "execution_count": 92,
   "metadata": {},
   "outputs": [
    {
     "name": "stdout",
     "output_type": "stream",
     "text": [
      "1 12.256336113815209\n",
      "0 87.74366388618479\n"
     ]
    },
    {
     "data": {
      "text/plain": [
       "Text(0.5, 1.0, 'How many were posiitve responses? None')"
      ]
     },
     "execution_count": 92,
     "metadata": {},
     "output_type": "execute_result"
    },
    {
     "data": {
      "image/png": "[encoded data removed]",
      "text/plain": [
       "<Figure size 432x288 with 1 Axes>"
      ]
     },
     "metadata": {
      "needs_background": "light"
     },
     "output_type": "display_data"
    }
   ],
   "source": [
    "plot_cat(\"Response\")\n",
    "plt.title(\"How many were posiitve responses? {}\".format(value(\"Response\")))"
   ]
  },
  {
   "cell_type": "markdown",
   "metadata": {},
   "source": [
    "- Only 12 % are interested/agreed for vehicle insurance "
   ]
  },
  {
   "cell_type": "markdown",
   "metadata": {},
   "source": [
    "## Bivariate"
   ]
  },
  {
   "cell_type": "markdown",
   "metadata": {},
   "source": [
    "- Numerical - Numerical\n",
    "- Numerical - categorical\n",
    "- Categorical - Categorical"
   ]
  },
  {
   "cell_type": "markdown",
   "metadata": {},
   "source": [
    "#### Bivariate (Numerical-Categorical)"
   ]
  },
  {
   "cell_type": "markdown",
   "metadata": {},
   "source": [
    " - Hypothesis to check from univariate "
   ]
  },
  {
   "cell_type": "markdown",
   "metadata": {},
   "source": [
    "- Age\n",
    ">- 20-30 might take insurance more\n",
    ">- 30-50 would take vehicle Insurance\n",
    "\n",
    "- Region_Code\n",
    ">- more near 30\n",
    ">- More accidents?? Can be checked with Vehicle_Damage\n",
    ">- If yes, Hypothesis -- More applied for vehicle insurance\n",
    "\n",
    "- Annual_Premium\n",
    ">- SInce less premium amount to be paid this year is majority\n",
    ">- May not accept vehicle Insurance\n",
    ">- But do check t=with age in this and vehicle damage\n",
    ">- The high Insurance Payment ones\n",
    ">- If very old , might not accept Vehicle Insurance \n",
    ">- If more vehicle damage, then would\n",
    "\n",
    "- Policy_Sales_Channel\n",
    ">- Hypothesis -- More poeple interested who interacted with channel over 120\n",
    "- Vintage                   \n",
    ">- ??"
   ]
  },
  {
   "cell_type": "markdown",
   "metadata": {},
   "source": [
    "#### Defining Function with t and z test results"
   ]
  },
  {
   "cell_type": "code",
   "execution_count": 106,
   "metadata": {},
   "outputs": [],
   "source": [
    "def TwoSampZ(X1, X2, sigma1, sigma2, N1, N2):\n",
    "  '''\n",
    "  takes mean, standard deviation, and number of observations and returns p-value calculated for 2-sampled Z-Test\n",
    "  '''\n",
    "  from numpy import sqrt, abs, round\n",
    "  from scipy.stats import norm\n",
    "  ovr_sigma = sqrt(sigma1**2/N1 + sigma2**2/N2)\n",
    "  z = (X1 - X2)/ovr_sigma\n",
    "  pval = 2*(1 - norm.cdf(abs(z)))\n",
    "  return pval\n",
    "\n",
    "def TwoSampT(X1, X2, sd1, sd2, n1, n2):\n",
    "  '''\n",
    "  takes mean, standard deviation, and number of observations and returns p-value calculated for 2-sample T-Test\n",
    "  '''\n",
    "  from numpy import sqrt, abs, round\n",
    "  from scipy.stats import t as t_dist\n",
    "  ovr_sd = sqrt(sd1**2/n1 + sd2**2/n2)\n",
    "  t = (X1 - X2)/ovr_sd\n",
    "  df = n1+n2-2\n",
    "  pval = 2*(1 - t_dist.cdf(abs(t),df))\n",
    "  return pval"
   ]
  },
  {
   "cell_type": "code",
   "execution_count": 107,
   "metadata": {},
   "outputs": [],
   "source": [
    "def Bivariate_cont_cat(data, cont, cat, category):\n",
    "  #creating 2 samples\n",
    "  x1 = data[cont][data[cat]==category][:]\n",
    "  x2 = data[cont][~(data[cat]==category)][:]\n",
    "  \n",
    "  #calculating descriptives\n",
    "  n1, n2 = x1.shape[0], x2.shape[0]\n",
    "  m1, m2 = x1.mean(), x2.mean()\n",
    "  std1, std2 = x1.std(), x2.mean()\n",
    "  \n",
    "  #calculating p-values\n",
    "  t_p_val = TwoSampT(m1, m2, std1, std2, n1, n2)\n",
    "  z_p_val = TwoSampZ(m1, m2, std1, std2, n1, n2)\n",
    "\n",
    "  #table\n",
    "  table = pd.pivot_table(data=data, values=cont, columns=cat, aggfunc = np.mean)\n",
    "\n",
    "  #plotting\n",
    "  plt.figure(figsize = (15,6), dpi=140)\n",
    "  \n",
    "  #barplot\n",
    "  plt.subplot(1,2,1)\n",
    "  sns.barplot([str(category),'not {}'.format(category)], [m1, m2])\n",
    "  plt.ylabel('mean {}'.format(cont))\n",
    "  plt.xlabel(cat)\n",
    "  plt.title('t-test p-value = {} \\n z-test p-value = {}\\n {}'.format(t_p_val,\n",
    "                                                                z_p_val,\n",
    "                                                                table))\n",
    "\n",
    "  # boxplot\n",
    "  plt.subplot(1,2,2)\n",
    "  sns.boxplot(x=cat, y=cont, data=data)\n",
    "  plt.title('categorical boxplot')\n",
    "  "
   ]
  },
  {
   "cell_type": "code",
   "execution_count": null,
   "metadata": {},
   "outputs": [],
   "source": []
  }
 ],
 "metadata": {
  "kernelspec": {
   "display_name": "Python 3",
   "language": "python",
   "name": "python3"
  },
  "language_info": {
   "codemirror_mode": {
    "name": "ipython",
    "version": 3
   },
   "file_extension": ".py",
   "mimetype": "text/x-python",
   "name": "python",
   "nbconvert_exporter": "python",
   "pygments_lexer": "ipython3",
   "version": "3.7.6"
  }
 },
 "nbformat": 4,
 "nbformat_minor": 4
}
